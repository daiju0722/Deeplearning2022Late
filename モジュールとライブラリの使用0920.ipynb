{
  "nbformat": 4,
  "nbformat_minor": 0,
  "metadata": {
    "colab": {
      "provenance": [],
      "collapsed_sections": [],
      "authorship_tag": "ABX9TyNx9+/iNEV4bi39G5NeB6G6",
      "include_colab_link": true
    },
    "kernelspec": {
      "name": "python3",
      "display_name": "Python 3"
    },
    "language_info": {
      "name": "python"
    }
  },
  "cells": [
    {
      "cell_type": "markdown",
      "metadata": {
        "id": "view-in-github",
        "colab_type": "text"
      },
      "source": [
        "<a href=\"https://colab.research.google.com/github/daiju0722/Deeplearning2022Late/blob/main/%E3%83%A2%E3%82%B8%E3%83%A5%E3%83%BC%E3%83%AB%E3%81%A8%E3%83%A9%E3%82%A4%E3%83%96%E3%83%A9%E3%83%AA%E3%81%AE%E4%BD%BF%E7%94%A80920.ipynb\" target=\"_parent\"><img src=\"https://colab.research.google.com/assets/colab-badge.svg\" alt=\"Open In Colab\"/></a>"
      ]
    },
    {
      "cell_type": "markdown",
      "source": [
        "# モジュールを使う\n",
        "## import文でモジュールを読み込んで使う\n",
        "例) math\n"
      ],
      "metadata": {
        "id": "ZoVqwSSm9B3K"
      }
    },
    {
      "cell_type": "code",
      "execution_count": 29,
      "metadata": {
        "colab": {
          "base_uri": "https://localhost:8080/"
        },
        "id": "y6IF4CTY8sRU",
        "outputId": "9ebdd9ca-4613-41c0-c099-ac452a075ca2"
      },
      "outputs": [
        {
          "output_type": "stream",
          "name": "stdout",
          "text": [
            "3.141592653589793\n",
            "25.0\n",
            "<built-in function sqrt>\n"
          ]
        }
      ],
      "source": [
        "# math モジュールを読み込む\n",
        "import math as mt\n",
        "print(mt.pi) # mathの中に定義してある円周率を表示\n",
        "print(mt.pow(5, 2)) # ５の２乗\n",
        "print(mt.sqrt) # ９の平方根"
      ]
    },
    {
      "cell_type": "markdown",
      "source": [
        "## Numpy-数値計算用の便利なライブラリ\n",
        "https://numpy.org/"
      ],
      "metadata": {
        "id": "5N05Uk43_wbH"
      }
    },
    {
      "cell_type": "code",
      "source": [
        "# numpy をimport\n",
        "import numpy as np"
      ],
      "metadata": {
        "id": "xa3MCVEO9sRk"
      },
      "execution_count": 30,
      "outputs": []
    },
    {
      "cell_type": "markdown",
      "source": [
        "### numpy配列を作る(ndarray)"
      ],
      "metadata": {
        "id": "oMsGJEv5obWZ"
      }
    },
    {
      "cell_type": "code",
      "source": [
        "a = np.array([5, 7, 3, 1, 4, 3])\n",
        "print(a)"
      ],
      "metadata": {
        "id": "8tOJcho4AAMh",
        "colab": {
          "base_uri": "https://localhost:8080/"
        },
        "outputId": "6e683d88-4d3c-45b3-d1de-3663734cfdac"
      },
      "execution_count": 31,
      "outputs": [
        {
          "output_type": "stream",
          "name": "stdout",
          "text": [
            "[5 7 3 1 4 3]\n"
          ]
        }
      ]
    },
    {
      "cell_type": "markdown",
      "source": [
        "## Numpyで配列の操作をしてみる\n",
        "### 配列を構成しなおす"
      ],
      "metadata": {
        "id": "FghzFrmwqFwg"
      }
    },
    {
      "cell_type": "code",
      "source": [
        "# 現在、aは１行１次元配列\n",
        "print(a)\n",
        "# aを３行２列の２次元配列に構成しなおす\n",
        "b = a.reshape([3, 2]) # 新しい配列の構成を引数で指定する\n",
        "print(b)"
      ],
      "metadata": {
        "colab": {
          "base_uri": "https://localhost:8080/"
        },
        "id": "AVxtx5TeqEeT",
        "outputId": "595799d7-26d7-49ab-94fa-155cd88458b7"
      },
      "execution_count": 32,
      "outputs": [
        {
          "output_type": "stream",
          "name": "stdout",
          "text": [
            "[5 7 3 1 4 3]\n",
            "[[5 7]\n",
            " [3 1]\n",
            " [4 3]]\n"
          ]
        }
      ]
    },
    {
      "cell_type": "markdown",
      "source": [
        "## Numpy配列の中身を初期化して作る"
      ],
      "metadata": {
        "id": "cEqx8uHSsILL"
      }
    },
    {
      "cell_type": "code",
      "source": [
        "# ３行４列の０が入った２次元配列を作る\n",
        "np.zeros([3, 4])\n",
        "# ランダムな値が入った配列を作る\n",
        "np.random.seed(0)\n",
        "r = np.random.rand(3, 4)\n",
        "print(r)"
      ],
      "metadata": {
        "colab": {
          "base_uri": "https://localhost:8080/"
        },
        "id": "_sDdMaBfrB8_",
        "outputId": "58467a96-1bea-4904-eb61-06b245496c75"
      },
      "execution_count": 33,
      "outputs": [
        {
          "output_type": "stream",
          "name": "stdout",
          "text": [
            "[[0.5488135  0.71518937 0.60276338 0.54488318]\n",
            " [0.4236548  0.64589411 0.43758721 0.891773  ]\n",
            " [0.96366276 0.38344152 0.79172504 0.52889492]]\n"
          ]
        }
      ]
    },
    {
      "cell_type": "markdown",
      "source": [
        "## Numpyのスライスのやり方\n",
        "### 基本\n",
        "スライスの指定の仕方[start : stop : step]で指定する"
      ],
      "metadata": {
        "id": "Sj4KeqWuui0X"
      }
    },
    {
      "cell_type": "code",
      "source": [
        "# リストのスライス\n",
        "l = list(range(10)) # ０～９までの１０個の要素のリスト\n",
        "print(l)\n",
        "print(l[4:8])#[4:8]でスライス\n",
        "print(l[ : : -1]) # stepを-1でスライス"
      ],
      "metadata": {
        "colab": {
          "base_uri": "https://localhost:8080/"
        },
        "id": "cHtnmZWFtkym",
        "outputId": "bb94633c-35be-4fe6-f7d0-fa0350b76a33"
      },
      "execution_count": 34,
      "outputs": [
        {
          "output_type": "stream",
          "name": "stdout",
          "text": [
            "[0, 1, 2, 3, 4, 5, 6, 7, 8, 9]\n",
            "[4, 5, 6, 7]\n",
            "[9, 8, 7, 6, 5, 4, 3, 2, 1, 0]\n"
          ]
        }
      ]
    },
    {
      "cell_type": "markdown",
      "source": [
        "## １次元のNumpy配列(ndarray)におけるスライス"
      ],
      "metadata": {
        "id": "yluUVz_jxcBA"
      }
    },
    {
      "cell_type": "code",
      "source": [
        "# 範囲を指定してndarrayを作る\n",
        "a = np.arange(10)\n",
        "print(a)\n",
        "print(a[2:8])\n",
        "print(a[2:8:2]) # step2で２個飛ばし\n",
        "print(a[2:8:3]) #step3で３個飛ばし"
      ],
      "metadata": {
        "colab": {
          "base_uri": "https://localhost:8080/"
        },
        "id": "1aMg1c9qvYpI",
        "outputId": "573e893d-9633-48c2-b02f-6c0512009ac6"
      },
      "execution_count": 35,
      "outputs": [
        {
          "output_type": "stream",
          "name": "stdout",
          "text": [
            "[0 1 2 3 4 5 6 7 8 9]\n",
            "[2 3 4 5 6 7]\n",
            "[2 4 6]\n",
            "[2 5]\n"
          ]
        }
      ]
    },
    {
      "cell_type": "markdown",
      "source": [
        "## １次元配列のndarrayのスライスに代入"
      ],
      "metadata": {
        "id": "R5VaDyf2zo0v"
      }
    },
    {
      "cell_type": "code",
      "source": [
        "print(a)\n",
        "a[3:6] = 100 # 指定した範囲に特定の値を代入\n",
        "print(a)\n",
        "a[3:6] = [100, 200, 300] # 指定した範囲にリストの値を代入\n",
        "print(a)\n",
        "# a[3:6] = [100, 200, 300, 400] # 3つの範囲を４つの要素で上書きする\n",
        "a = np.arange(10)\n",
        "print(a)\n",
        "a[2:8:2] = 100 # start2stop8にstep2で上書き\n",
        "print(a)"
      ],
      "metadata": {
        "colab": {
          "base_uri": "https://localhost:8080/"
        },
        "id": "rOABL60AxwGz",
        "outputId": "50285879-3e90-4449-ed78-33cef01822c0"
      },
      "execution_count": 36,
      "outputs": [
        {
          "output_type": "stream",
          "name": "stdout",
          "text": [
            "[0 1 2 3 4 5 6 7 8 9]\n",
            "[  0   1   2 100 100 100   6   7   8   9]\n",
            "[  0   1   2 100 200 300   6   7   8   9]\n",
            "[0 1 2 3 4 5 6 7 8 9]\n",
            "[  0   1 100   3 100   5 100   7   8   9]\n"
          ]
        }
      ]
    },
    {
      "cell_type": "markdown",
      "source": [
        "## 多次元配列のndarrayのスライス"
      ],
      "metadata": {
        "id": "d25p7EVt2WxF"
      }
    },
    {
      "cell_type": "code",
      "source": [
        "# ３行４列の２次元配列を作る\n",
        "a = np.arange(12).reshape((3, 4))\n",
        "print(a)\n",
        "# ２行目から終わりまでの行 = [1 : ]\n",
        "# １列目から３列目手前までの列 = [ 1:3 ]\n",
        "print(a[1: , 1:3])\n",
        "b = np.arange(20).reshape(5,4)\n",
        "print(b)\n",
        "# 9,10,13,14,17,18の３行２列だけ抜き出す\n",
        "print(b[2: , 1:3])\n",
        "c = b[2: , 1:3]\n",
        "print(c.shape)"
      ],
      "metadata": {
        "colab": {
          "base_uri": "https://localhost:8080/"
        },
        "id": "APnThxhDz7i8",
        "outputId": "371237cf-9ade-4c5e-9df6-6d4ea4066879"
      },
      "execution_count": 37,
      "outputs": [
        {
          "output_type": "stream",
          "name": "stdout",
          "text": [
            "[[ 0  1  2  3]\n",
            " [ 4  5  6  7]\n",
            " [ 8  9 10 11]]\n",
            "[[ 5  6]\n",
            " [ 9 10]]\n",
            "[[ 0  1  2  3]\n",
            " [ 4  5  6  7]\n",
            " [ 8  9 10 11]\n",
            " [12 13 14 15]\n",
            " [16 17 18 19]]\n",
            "[[ 9 10]\n",
            " [13 14]\n",
            " [17 18]]\n",
            "(3, 2)\n"
          ]
        }
      ]
    },
    {
      "cell_type": "markdown",
      "source": [
        "## 多次元のndarrayへのスライスでの代入"
      ],
      "metadata": {
        "id": "RB-9TBvSe1cM"
      }
    },
    {
      "cell_type": "code",
      "source": [
        "# 要素数１２の３行４列の２次元配列を作る\n",
        "a = np.arange(12).reshape(3,4)\n",
        "print(a)\n",
        "#5,6,9,10\n",
        "b = a[1: , 1:3]\n",
        "print(b)\n",
        "a[1: , 1:3] = 100\n",
        "print(a)\n",
        "a = np.arange(12).reshape(3,4)\n",
        "#多次元での上書きにリストを使う\n",
        "a[1: ,1:3] =[ [100,200] , [300,400] ]\n",
        "print(a)"
      ],
      "metadata": {
        "id": "T61wqWoG3YUQ",
        "colab": {
          "base_uri": "https://localhost:8080/"
        },
        "outputId": "c27dcd27-bfea-4709-832f-d789dff070ea"
      },
      "execution_count": 38,
      "outputs": [
        {
          "output_type": "stream",
          "name": "stdout",
          "text": [
            "[[ 0  1  2  3]\n",
            " [ 4  5  6  7]\n",
            " [ 8  9 10 11]]\n",
            "[[ 5  6]\n",
            " [ 9 10]]\n",
            "[[  0   1   2   3]\n",
            " [  4 100 100   7]\n",
            " [  8 100 100  11]]\n",
            "[[  0   1   2   3]\n",
            " [  4 100 200   7]\n",
            " [  8 300 400  11]]\n"
          ]
        }
      ]
    },
    {
      "cell_type": "markdown",
      "source": [
        "### 多次元のndarrayへのstepを使ったスライスでの代入"
      ],
      "metadata": {
        "id": "W4KA2rx7iZr8"
      }
    },
    {
      "cell_type": "code",
      "source": [
        "# 要素数１２　３行４列のndarrayを作って変数aに代入\n",
        "a = np.arange(12).reshape(3,4)\n",
        "print(a)\n",
        "# スライスにstepを使ってみる\n",
        "print(a[1: , ::2])\n",
        "#0,3,4,7抜き出す\n",
        "print(a[:2: , ::3])\n",
        "a[1: ,::2] = 100 # 4,6,8,10だったところを100で上書き\n",
        "print(a)\n",
        "a[1: ,::2] = [100,200]\n",
        "print(a)\n",
        "# 4,6,8,10だったところを多次元のリストで上書き\n",
        "a[1: , ::2] = [[100,200],[300,400]]\n",
        "print(a)"
      ],
      "metadata": {
        "colab": {
          "base_uri": "https://localhost:8080/"
        },
        "id": "QTGczOKEfMYj",
        "outputId": "a61f555e-521d-4e55-9ed4-e8e46ca085e5"
      },
      "execution_count": 39,
      "outputs": [
        {
          "output_type": "stream",
          "name": "stdout",
          "text": [
            "[[ 0  1  2  3]\n",
            " [ 4  5  6  7]\n",
            " [ 8  9 10 11]]\n",
            "[[ 4  6]\n",
            " [ 8 10]]\n",
            "[[0 3]\n",
            " [4 7]]\n",
            "[[  0   1   2   3]\n",
            " [100   5 100   7]\n",
            " [100   9 100  11]]\n",
            "[[  0   1   2   3]\n",
            " [100   5 200   7]\n",
            " [100   9 200  11]]\n",
            "[[  0   1   2   3]\n",
            " [100   5 200   7]\n",
            " [300   9 400  11]]\n"
          ]
        }
      ]
    },
    {
      "cell_type": "code",
      "source": [],
      "metadata": {
        "id": "wu5SLpNyi8Xd"
      },
      "execution_count": 39,
      "outputs": []
    }
  ]
}