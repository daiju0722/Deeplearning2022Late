{
  "nbformat": 4,
  "nbformat_minor": 0,
  "metadata": {
    "colab": {
      "provenance": [],
      "authorship_tag": "ABX9TyO8XpyVPy+ROpKNlwHC/U0M",
      "include_colab_link": true
    },
    "kernelspec": {
      "name": "python3",
      "display_name": "Python 3"
    },
    "language_info": {
      "name": "python"
    }
  },
  "cells": [
    {
      "cell_type": "markdown",
      "metadata": {
        "id": "view-in-github",
        "colab_type": "text"
      },
      "source": [
        "<a href=\"https://colab.research.google.com/github/daiju0722/Deeplearning2022Late/blob/main/NumPyReplay2022.ipynb\" target=\"_parent\"><img src=\"https://colab.research.google.com/assets/colab-badge.svg\" alt=\"Open In Colab\"/></a>"
      ]
    },
    {
      "cell_type": "markdown",
      "source": [
        "## NumPyを使用する"
      ],
      "metadata": {
        "id": "byEcXaF6gOKD"
      }
    },
    {
      "cell_type": "code",
      "execution_count": 1,
      "metadata": {
        "id": "ULjV-ExugFWy"
      },
      "outputs": [],
      "source": [
        "import numpy as np"
      ]
    },
    {
      "cell_type": "markdown",
      "source": [
        "### 配列（アレイ）を作る"
      ],
      "metadata": {
        "id": "QS3iIsJYgTqS"
      }
    },
    {
      "cell_type": "code",
      "source": [
        "x=np.array([1.0,2.0,3.0,4.0,5.0])\n",
        "print(x)\n",
        "# array()は、Pythonのリストを渡すことでNumPy用の配列(numpy.ndarray)を生成します。\n",
        "\n",
        "x=np.array([1,2,3])\n",
        "print(x) \n",
        "print(type(x))\n",
        "\n",
        "my_list1=[1,2,3,4,5]\n",
        "my_array1=np.array(my_list1)\n",
        "\n",
        "my_list2=[1020,30,40,50]\n",
        "my_lists=[my_list1,my_list2]\n",
        "my_lists\n",
        "\n",
        "my_array2=np.array(my_lists)\n",
        "\n",
        "my_array2\n"
      ],
      "metadata": {
        "colab": {
          "base_uri": "https://localhost:8080/"
        },
        "id": "sHuEQ_4XgMih",
        "outputId": "e38a7748-3a37-468a-a7c7-907009b63269"
      },
      "execution_count": 4,
      "outputs": [
        {
          "output_type": "stream",
          "name": "stdout",
          "text": [
            "[1. 2. 3. 4. 5.]\n",
            "[1 2 3]\n",
            "<class 'numpy.ndarray'>\n"
          ]
        },
        {
          "output_type": "stream",
          "name": "stderr",
          "text": [
            "/usr/local/lib/python3.7/dist-packages/ipykernel_launcher.py:16: VisibleDeprecationWarning: Creating an ndarray from ragged nested sequences (which is a list-or-tuple of lists-or-tuples-or ndarrays with different lengths or shapes) is deprecated. If you meant to do this, you must specify 'dtype=object' when creating the ndarray.\n",
            "  app.launch_new_instance()\n"
          ]
        },
        {
          "output_type": "execute_result",
          "data": {
            "text/plain": [
              "array([list([1, 2, 3, 4, 5]), list([1020, 30, 40, 50])], dtype=object)"
            ]
          },
          "metadata": {},
          "execution_count": 4
        }
      ]
    },
    {
      "cell_type": "markdown",
      "source": [
        "### NumPy配列の形状を調べる"
      ],
      "metadata": {
        "id": "bJl_5wdIiJm9"
      }
    },
    {
      "cell_type": "code",
      "source": [
        "a=np.array([1,2,3,4])\n",
        "a.shape\n",
        "b=np.array([[1,2],[3,4]])\n",
        "b.shape"
      ],
      "metadata": {
        "colab": {
          "base_uri": "https://localhost:8080/"
        },
        "id": "3kjl56Iiho0k",
        "outputId": "beae0545-afee-4b15-9a7e-1ee939e17782"
      },
      "execution_count": 6,
      "outputs": [
        {
          "output_type": "execute_result",
          "data": {
            "text/plain": [
              "(2, 2)"
            ]
          },
          "metadata": {},
          "execution_count": 6
        }
      ]
    },
    {
      "cell_type": "markdown",
      "source": [
        "### 配列の生成arange()"
      ],
      "metadata": {
        "id": "LHj2wUnFidlO"
      }
    },
    {
      "cell_type": "code",
      "source": [
        "#データの準備\n",
        "#等間隔の数字\n",
        "#０から９までの数字（配列）を生成\n",
        "x=np.arange(10)\n",
        "print(x)\n",
        "\n",
        "#reshape()は配列を計上に変換します。\n",
        "x=np.arange(1,10).reshape(3,3)\n",
        "y=np.arange(1,10).reshape(3,3)\n",
        "\n",
        "print(x)\n",
        "print(y)\n",
        "\n",
        "print(x+y)\n",
        "print(x-y)\n",
        "print(x*y)"
      ],
      "metadata": {
        "colab": {
          "base_uri": "https://localhost:8080/"
        },
        "id": "vhghdURniYrQ",
        "outputId": "41fc7151-2be8-4080-92a1-d01ad5471ce4"
      },
      "execution_count": 7,
      "outputs": [
        {
          "output_type": "stream",
          "name": "stdout",
          "text": [
            "[0 1 2 3 4 5 6 7 8 9]\n",
            "[[1 2 3]\n",
            " [4 5 6]\n",
            " [7 8 9]]\n",
            "[[1 2 3]\n",
            " [4 5 6]\n",
            " [7 8 9]]\n",
            "[[ 2  4  6]\n",
            " [ 8 10 12]\n",
            " [14 16 18]]\n",
            "[[0 0 0]\n",
            " [0 0 0]\n",
            " [0 0 0]]\n",
            "[[ 1  4  9]\n",
            " [16 25 36]\n",
            " [49 64 81]]\n"
          ]
        }
      ]
    },
    {
      "cell_type": "markdown",
      "source": [
        "### 配列操作"
      ],
      "metadata": {
        "id": "V9VR2dfHjI0Z"
      }
    },
    {
      "cell_type": "code",
      "source": [
        "sample_array=np.arange(10)\n",
        "print(sample_array)\n",
        "\n",
        "\n",
        "sample_array2=sample_array.reshape(2,5)\n",
        "print(sample_array2)\n",
        "\n",
        "sample_array3=np.array([[1,2,3],[4,5,6]])\n",
        "sample_array4=np.array([[7,8,9],[10,11,12]])\n",
        "\n",
        "print(np.concatenate([sample_array3,sample_array4],axis=1))\n",
        "\n",
        "print(np.hstack((sample_array3,sample_array4)))\n",
        "\n",
        "\n",
        "print(np.concatenate([sample_array3,sample_array4],axis=0))\n",
        "\n",
        "print(np.vstack((sample_array3,sample_array4)))"
      ],
      "metadata": {
        "colab": {
          "base_uri": "https://localhost:8080/"
        },
        "id": "h4FX8LrujHj2",
        "outputId": "66b5b4d5-0789-4c08-e938-7622293f9b23"
      },
      "execution_count": 8,
      "outputs": [
        {
          "output_type": "stream",
          "name": "stdout",
          "text": [
            "[0 1 2 3 4 5 6 7 8 9]\n",
            "[[0 1 2 3 4]\n",
            " [5 6 7 8 9]]\n",
            "[[ 1  2  3  7  8  9]\n",
            " [ 4  5  6 10 11 12]]\n",
            "[[ 1  2  3  7  8  9]\n",
            " [ 4  5  6 10 11 12]]\n",
            "[[ 1  2  3]\n",
            " [ 4  5  6]\n",
            " [ 7  8  9]\n",
            " [10 11 12]]\n",
            "[[ 1  2  3]\n",
            " [ 4  5  6]\n",
            " [ 7  8  9]\n",
            " [10 11 12]]\n"
          ]
        }
      ]
    },
    {
      "cell_type": "markdown",
      "source": [
        "### ブロードキャスト\n",
        "ブロードキャストは、配列の大きさが異なっていれば、自動的に要素をコピーし大きさをそろえるNumPyの機能です。"
      ],
      "metadata": {
        "id": "O4RSjCRmkcLa"
      }
    },
    {
      "cell_type": "code",
      "source": [
        "#データの準備\n",
        "sample_array=np.arange(10)\n",
        "print(sample_array)\n",
        "\n",
        "print(sample_array+5)\n"
      ],
      "metadata": {
        "colab": {
          "base_uri": "https://localhost:8080/"
        },
        "id": "jDmTbJyUkYtf",
        "outputId": "643d1bdc-3a0c-48b6-d0ae-b02f493cbfc9"
      },
      "execution_count": 9,
      "outputs": [
        {
          "output_type": "stream",
          "name": "stdout",
          "text": [
            "[0 1 2 3 4 5 6 7 8 9]\n",
            "[ 5  6  7  8  9 10 11 12 13 14]\n"
          ]
        }
      ]
    },
    {
      "cell_type": "markdown",
      "source": [
        "### 多次元配列の計算"
      ],
      "metadata": {
        "id": "NeE8hipjk3wz"
      }
    },
    {
      "cell_type": "code",
      "source": [
        "n1=np.array([1,2,3,4,5])\n",
        "print(n1)\n",
        "\n",
        "np.ndim(n1)\n",
        "\n",
        "n1.shape\n",
        "\n",
        "n2=np.array([[1,2],[3,4],[5,6]])\n",
        "print(n2)\n",
        "\n",
        "print(n2.ndim)"
      ],
      "metadata": {
        "colab": {
          "base_uri": "https://localhost:8080/"
        },
        "id": "3bve6wR6k2tB",
        "outputId": "6036fc09-2374-404d-f523-b9379045f61b"
      },
      "execution_count": 10,
      "outputs": [
        {
          "output_type": "stream",
          "name": "stdout",
          "text": [
            "[1 2 3 4 5]\n",
            "[[1 2]\n",
            " [3 4]\n",
            " [5 6]]\n",
            "2\n"
          ]
        }
      ]
    },
    {
      "cell_type": "markdown",
      "source": [
        "### 行列とは\n",
        "行列は、数や記号、式などを行と列に沿って配列したものです。数学の線形代数学周辺分野で出てきます。"
      ],
      "metadata": {
        "id": "k75oiV5qlQ6D"
      }
    },
    {
      "cell_type": "code",
      "source": [
        "my_li1=[-1,4]\n",
        "my_li2=[3,2]\n",
        "my_li3=[2,5]\n",
        "my_li4=[0,1]\n",
        "my_lists=[my_li1,my_li2,my_li3,my_li4]\n",
        "my_array3=np.array(my_lists)\n",
        "\n",
        "my_array3"
      ],
      "metadata": {
        "colab": {
          "base_uri": "https://localhost:8080/"
        },
        "id": "Shmi07CelPbW",
        "outputId": "359f2dce-5620-4b44-fbde-e9e3f6b47908"
      },
      "execution_count": 11,
      "outputs": [
        {
          "output_type": "execute_result",
          "data": {
            "text/plain": [
              "array([[-1,  4],\n",
              "       [ 3,  2],\n",
              "       [ 2,  5],\n",
              "       [ 0,  1]])"
            ]
          },
          "metadata": {},
          "execution_count": 11
        }
      ]
    },
    {
      "cell_type": "code",
      "source": [],
      "metadata": {
        "id": "lCT1pFI5l8sG"
      },
      "execution_count": null,
      "outputs": []
    }
  ]
}