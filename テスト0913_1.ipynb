{
  "nbformat": 4,
  "nbformat_minor": 0,
  "metadata": {
    "colab": {
      "provenance": [],
      "collapsed_sections": [],
      "toc_visible": true,
      "authorship_tag": "ABX9TyM4YwCjFTHmxvYmJQFH8FWP",
      "include_colab_link": true
    },
    "kernelspec": {
      "name": "python3",
      "display_name": "Python 3"
    },
    "language_info": {
      "name": "python"
    }
  },
  "cells": [
    {
      "cell_type": "markdown",
      "metadata": {
        "id": "view-in-github",
        "colab_type": "text"
      },
      "source": [
        "<a href=\"https://colab.research.google.com/github/daiju0722/Deeplearning2022Late/blob/main/%E3%83%86%E3%82%B9%E3%83%880913_1.ipynb\" target=\"_parent\"><img src=\"https://colab.research.google.com/assets/colab-badge.svg\" alt=\"Open In Colab\"/></a>"
      ]
    },
    {
      "cell_type": "markdown",
      "source": [
        "##リスト型とタプル型\n",
        "##リストとタプル"
      ],
      "metadata": {
        "id": "rHQEuOoXUoje"
      }
    },
    {
      "cell_type": "code",
      "execution_count": 1,
      "metadata": {
        "colab": {
          "base_uri": "https://localhost:8080/"
        },
        "id": "P1s6eq7qUHPO",
        "outputId": "76445775-cbbd-407c-d6ce-29132caf210b"
      },
      "outputs": [
        {
          "output_type": "stream",
          "name": "stdout",
          "text": [
            "['アップル', 'ペン', 'ペン', 'パイナップル']\n",
            "ペンペン\n"
          ]
        }
      ],
      "source": [
        "# リスト\n",
        "list = [ 'アップル', 'ペン', 'ペン', 'パイナップル']\n",
        "print(list)\n",
        "print( list[1] + list[2] )"
      ]
    },
    {
      "cell_type": "code",
      "source": [
        "# タプル\n",
        "tuple = ( 'アップル', 'ペン', 'ペン', 'パイナップル')\n",
        "print(tuple)\n",
        "print( tuple[1] + tuple[2] )"
      ],
      "metadata": {
        "colab": {
          "base_uri": "https://localhost:8080/"
        },
        "id": "dQWu7MbZU3rT",
        "outputId": "f3d5db9b-14d3-44a1-ca48-998d8628d416"
      },
      "execution_count": 2,
      "outputs": [
        {
          "output_type": "stream",
          "name": "stdout",
          "text": [
            "('アップル', 'ペン', 'ペン', 'パイナップル')\n",
            "ペンペン\n"
          ]
        }
      ]
    },
    {
      "cell_type": "markdown",
      "source": [
        "###構成を変更できるのはリスト\n",
        "###構成を変更できないのはタプル"
      ],
      "metadata": {
        "id": "WxyucZl3XU-y"
      }
    },
    {
      "cell_type": "code",
      "source": [
        "#リストの構成変更\n",
        "print(list)\n",
        "list.append(100) # 文字列データのリストに敢えて数値を追加\n",
        "print(list)\n",
        "del list[2] #リストの2番目を削除\n",
        "print(list)\n",
        "list[3] = 'ペン' #数値１００を'ペン'に更新\n",
        "print(list)\n",
        "list.insert(2, 'ペン') #　2番目の位置に'ペン'を挿入\n",
        "print(list)"
      ],
      "metadata": {
        "colab": {
          "base_uri": "https://localhost:8080/"
        },
        "id": "zEKlSFMZWgkA",
        "outputId": "ca391c9a-8c29-4592-c941-01bb35c63a32"
      },
      "execution_count": 3,
      "outputs": [
        {
          "output_type": "stream",
          "name": "stdout",
          "text": [
            "['アップル', 'ペン', 'ペン', 'パイナップル']\n",
            "['アップル', 'ペン', 'ペン', 'パイナップル', 100]\n",
            "['アップル', 'ペン', 'パイナップル', 100]\n",
            "['アップル', 'ペン', 'パイナップル', 'ペン']\n",
            "['アップル', 'ペン', 'ペン', 'パイナップル', 'ペン']\n"
          ]
        }
      ]
    },
    {
      "cell_type": "markdown",
      "source": [
        "### リストやタプルの長さの取得"
      ],
      "metadata": {
        "id": "_S4mWAvhbGYL"
      }
    },
    {
      "cell_type": "code",
      "source": [
        "print(list)\n",
        "print(len(list)) #len()で長さを取得"
      ],
      "metadata": {
        "colab": {
          "base_uri": "https://localhost:8080/"
        },
        "id": "mL2-ePTTXRJw",
        "outputId": "7c4f4925-1ea0-4634-80b8-3633aef41fd4"
      },
      "execution_count": 4,
      "outputs": [
        {
          "output_type": "stream",
          "name": "stdout",
          "text": [
            "['アップル', 'ペン', 'ペン', 'パイナップル', 'ペン']\n",
            "5\n"
          ]
        }
      ]
    },
    {
      "cell_type": "markdown",
      "source": [
        "###スライス\n",
        "###データを抽出する（データを一部分だけ取り出す"
      ],
      "metadata": {
        "id": "dlTE2n-nb6Hc"
      }
    },
    {
      "cell_type": "code",
      "source": [
        "print(list)\n",
        "print(list[1])\n",
        "print(list[1:3]) #1～3番目未満の範囲を指定して抽出\n",
        "print(list[1:]) #1番目から最後まで指定して抽出"
      ],
      "metadata": {
        "colab": {
          "base_uri": "https://localhost:8080/"
        },
        "id": "IlVXhRUlbnPv",
        "outputId": "8ab0041e-531b-45ee-9172-cb5f108e43bd"
      },
      "execution_count": 5,
      "outputs": [
        {
          "output_type": "stream",
          "name": "stdout",
          "text": [
            "['アップル', 'ペン', 'ペン', 'パイナップル', 'ペン']\n",
            "ペン\n",
            "['ペン', 'ペン']\n",
            "['ペン', 'ペン', 'パイナップル', 'ペン']\n"
          ]
        }
      ]
    },
    {
      "cell_type": "markdown",
      "source": [
        "#SET型（集合型）\n",
        "集合型SETは、順番を持たない。重複したデータも持たない"
      ],
      "metadata": {
        "id": "ocEKDdZ0enxh"
      }
    },
    {
      "cell_type": "code",
      "source": [
        "# uniqという名前のst型変数\n",
        "uniq = set(['アップル', 'ペン', 'ペン', 'パイナップル'])\n",
        "print(uniq) #リストの時点では'ペン'が重複できていたが、set型になってから重複が消えた"
      ],
      "metadata": {
        "colab": {
          "base_uri": "https://localhost:8080/"
        },
        "id": "6t5oyBc2cbh-",
        "outputId": "5ff76d24-8617-4542-817b-d953ba2ac98b"
      },
      "execution_count": 6,
      "outputs": [
        {
          "output_type": "stream",
          "name": "stdout",
          "text": [
            "{'ペン', 'パイナップル', 'アップル'}\n"
          ]
        }
      ]
    },
    {
      "cell_type": "markdown",
      "source": [
        "###集合型の追加変更削除"
      ],
      "metadata": {
        "id": "p8RP5qrLhBCa"
      }
    },
    {
      "cell_type": "code",
      "source": [
        "print(uniq)\n",
        "uniq.add('バナナ') #uniqにバナナを追加\n",
        "print(uniq)\n",
        "uniq.remove('ペン') #uniqから'ペン'を削除\n",
        "print(uniq)"
      ],
      "metadata": {
        "colab": {
          "base_uri": "https://localhost:8080/"
        },
        "id": "pqceqLdTgEMf",
        "outputId": "07c8748f-6def-4749-9256-f59e89304535"
      },
      "execution_count": 7,
      "outputs": [
        {
          "output_type": "stream",
          "name": "stdout",
          "text": [
            "{'ペン', 'パイナップル', 'アップル'}\n",
            "{'ペン', 'パイナップル', 'バナナ', 'アップル'}\n",
            "{'パイナップル', 'バナナ', 'アップル'}\n"
          ]
        }
      ]
    },
    {
      "cell_type": "markdown",
      "source": [
        "####集合演算\n",
        "包括、積、和、差"
      ],
      "metadata": {
        "id": "M0KKFhATiBl3"
      }
    },
    {
      "cell_type": "code",
      "source": [
        "# uniqの値を再定義\n",
        "uniq = set(['アップル', 'ペン', 'ペン', 'パイナップル'])\n",
        "a = set(['アップル', 'ペン'])\n",
        "b = set(['ペン', 'パイナップル'])\n",
        "print(uniq)\n",
        "print(a)\n",
        "print(b)\n",
        "#集合 a は集合 uniq の subset(部分集合)である？　= 包括関係\n",
        "print(a.issubset(uniq))\n",
        "#データ'ペン'は集合 a の中にある？\n",
        "'ペン' in a"
      ],
      "metadata": {
        "colab": {
          "base_uri": "https://localhost:8080/"
        },
        "id": "xDSjO0K5hPDY",
        "outputId": "74c5da6a-170e-47ea-e282-e635e2d5d4e8"
      },
      "execution_count": 8,
      "outputs": [
        {
          "output_type": "stream",
          "name": "stdout",
          "text": [
            "{'ペン', 'パイナップル', 'アップル'}\n",
            "{'ペン', 'アップル'}\n",
            "{'ペン', 'パイナップル'}\n",
            "True\n"
          ]
        },
        {
          "output_type": "execute_result",
          "data": {
            "text/plain": [
              "True"
            ]
          },
          "metadata": {},
          "execution_count": 8
        }
      ]
    },
    {
      "cell_type": "code",
      "source": [
        "#ある集合とは別の集合の共通部分の要素(intersection)\n",
        "#集合 a と集合 b の共通集合\n",
        "print(a)\n",
        "print(b)\n",
        "print(a.intersection(b)) #集合 a のデータで集合 b に共通のもの\n",
        "#集合 a と 集合 b の結合：和集合\n",
        "print(a.union(b)) #集合aと集合bの集まり\n",
        "#集合 a と 集合 b の差集合(aのみに含まれる値の集合)\n",
        "a.difference(b) # aからbを取り除いた残り(差分：difference)"
      ],
      "metadata": {
        "colab": {
          "base_uri": "https://localhost:8080/"
        },
        "id": "sQkiWV9SjEvp",
        "outputId": "920a09a9-7a7f-4659-9f12-30efc4a8bf8e"
      },
      "execution_count": 11,
      "outputs": [
        {
          "output_type": "stream",
          "name": "stdout",
          "text": [
            "{'ペン', 'アップル'}\n",
            "{'ペン', 'パイナップル'}\n",
            "{'ペン'}\n",
            "{'ペン', 'パイナップル', 'アップル'}\n"
          ]
        }
      ]
    },
    {
      "cell_type": "code",
      "source": [],
      "metadata": {
        "id": "zzSCJ7qUqUOv"
      },
      "execution_count": null,
      "outputs": []
    }
  ]
}