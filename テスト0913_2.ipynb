{
  "nbformat": 4,
  "nbformat_minor": 0,
  "metadata": {
    "colab": {
      "provenance": [],
      "collapsed_sections": [],
      "toc_visible": true,
      "authorship_tag": "ABX9TyPEPF0PN/lUv8sJgevtsRyM",
      "include_colab_link": true
    },
    "kernelspec": {
      "name": "python3",
      "display_name": "Python 3"
    },
    "language_info": {
      "name": "python"
    }
  },
  "cells": [
    {
      "cell_type": "markdown",
      "metadata": {
        "id": "view-in-github",
        "colab_type": "text"
      },
      "source": [
        "<a href=\"https://colab.research.google.com/github/daiju0722/Deeplearning2022Late/blob/main/%E3%83%86%E3%82%B9%E3%83%880913_2.ipynb\" target=\"_parent\"><img src=\"https://colab.research.google.com/assets/colab-badge.svg\" alt=\"Open In Colab\"/></a>"
      ]
    },
    {
      "cell_type": "markdown",
      "source": [
        "#辞書型(dictionary)\n",
        "キーと値のペアで管理する"
      ],
      "metadata": {
        "id": "DUXPkXzXy81Y"
      }
    },
    {
      "cell_type": "markdown",
      "source": [
        "##辞書型の定義"
      ],
      "metadata": {
        "id": "vXFa8zZezU01"
      }
    },
    {
      "cell_type": "code",
      "execution_count": null,
      "metadata": {
        "colab": {
          "base_uri": "https://localhost:8080/"
        },
        "id": "t8GtgnLqyaQL",
        "outputId": "db1453f6-aa72-4fcd-b589-f09d619febdd"
      },
      "outputs": [
        {
          "output_type": "stream",
          "name": "stdout",
          "text": [
            "{'アップル': 1, 'ペン': 2, 'パイナップル': 3}\n",
            "2\n"
          ]
        }
      ],
      "source": [
        "#辞書型のデータを作って変数dictに代入\n",
        "# {'キーワード'：値, 'キーワード':値}でデータを管理\n",
        "dict = { 'アップル':1, 'ペン':2, 'パイナップル':3}\n",
        "print(dict)\n",
        "# 値を利用するときは、キーワードで指定\n",
        "print(dict['ペン'])"
      ]
    },
    {
      "cell_type": "markdown",
      "source": [
        "### 辞書型のキーワード一覧、値一覧を取得する"
      ],
      "metadata": {
        "id": "QIiEMd960-Gg"
      }
    },
    {
      "cell_type": "code",
      "source": [
        "print(dict)\n",
        "#dictに入っているキーの一覧\n",
        "print(dict.keys())\n",
        "#dictに入っている値の一覧\n",
        "print(dict.values())\n"
      ],
      "metadata": {
        "colab": {
          "base_uri": "https://localhost:8080/"
        },
        "id": "0z5c_Mug0X_d",
        "outputId": "5c0e6a0b-37be-4b0c-f9e3-1f542e9ef08a"
      },
      "execution_count": null,
      "outputs": [
        {
          "output_type": "stream",
          "name": "stdout",
          "text": [
            "{'アップル': 1, 'ペン': 2, 'パイナップル': 3}\n",
            "dict_keys(['アップル', 'ペン', 'パイナップル'])\n",
            "dict_values([1, 2, 3])\n"
          ]
        }
      ]
    },
    {
      "cell_type": "markdown",
      "source": [
        "### 辞書型の追加・削除・更新"
      ],
      "metadata": {
        "id": "gPIW4Wps2M8E"
      }
    },
    {
      "cell_type": "code",
      "source": [
        "print(dict)\n",
        "# dictにバナナというキーワードで値５を追加\n",
        "dict['バナナ'] = 5\n",
        "print(dict)\n",
        "#キーワードがすでにあったら、そのキーワードの値を更新\n",
        "dict['バナナ'] = 100\n",
        "print(dict)\n",
        "#キーワードで指定したペアを削除\n",
        "dict.pop('バナナ')\n",
        "print(dict)"
      ],
      "metadata": {
        "colab": {
          "base_uri": "https://localhost:8080/"
        },
        "id": "mjMEmALO1Kyr",
        "outputId": "ab1ba37b-9993-4c18-ff65-9bf3ee8fff23"
      },
      "execution_count": null,
      "outputs": [
        {
          "output_type": "stream",
          "name": "stdout",
          "text": [
            "{'アップル': 1, 'ペン': 2, 'パイナップル': 3, 'バナナ': 100}\n",
            "{'アップル': 1, 'ペン': 2, 'パイナップル': 3, 'バナナ': 5}\n",
            "{'アップル': 1, 'ペン': 2, 'パイナップル': 3, 'バナナ': 100}\n",
            "{'アップル': 1, 'ペン': 2, 'パイナップル': 3}\n"
          ]
        }
      ]
    },
    {
      "cell_type": "markdown",
      "source": [
        "## 文字列の整形\n",
        "###文字列の連結と繰り返し"
      ],
      "metadata": {
        "id": "t-bW36g-4ZQv"
      }
    },
    {
      "cell_type": "code",
      "source": [
        "#文字列の連結方法①\n",
        "apple = 'アップル'\n",
        "pen = 'ペン'\n",
        "print(apple + pen) # プラス記号で連結\n",
        "# 文字列の連結方法②　文字配列を連結する\n",
        "piko = ['ペン', 'パイナップル', 'アップル', 'ペン']\n",
        "# printメソッドで連結して表示\n",
        "print(','.join(piko))\n",
        "#回数を指定してメッセージを表示\n",
        "pon = 'ポン'\n",
        "print(pon *3)"
      ],
      "metadata": {
        "colab": {
          "base_uri": "https://localhost:8080/"
        },
        "id": "P2yoqVCR2sW4",
        "outputId": "c667b3af-1bbe-4537-e32d-8a12c43ff9ca"
      },
      "execution_count": null,
      "outputs": [
        {
          "output_type": "stream",
          "name": "stdout",
          "text": [
            "アップルペン\n",
            "ペン,パイナップル,アップル,ペン\n",
            "ポンポンポン\n"
          ]
        }
      ]
    },
    {
      "cell_type": "markdown",
      "source": [
        "##【重要】文字列の整形（フォーマット）"
      ],
      "metadata": {
        "id": "d-cS8H9V68uZ"
      }
    },
    {
      "cell_type": "code",
      "source": [
        "#定式で指定した形のメッセージにする\n",
        "print('{}{}:{}円')\n",
        "#スロットを定義した順番に、その数だけデータを引き渡して文章を組み立てる\n",
        "print('{}{}:{}円'.format('アップル','ペン',100))\n",
        "#スロットを値のインデックスで指定することもできる\n",
        "print('{1}{2}:{0}円'.format(100, 'アップル', 'ペン'))"
      ],
      "metadata": {
        "colab": {
          "base_uri": "https://localhost:8080/"
        },
        "id": "N8X9qtS76IJ6",
        "outputId": "e6d40ddd-db68-4360-fde2-34a9e469bf9c"
      },
      "execution_count": null,
      "outputs": [
        {
          "output_type": "stream",
          "name": "stdout",
          "text": [
            "{}{}:{}円\n",
            "アップルペン:100円\n",
            "アップルペン:100円\n"
          ]
        }
      ]
    },
    {
      "cell_type": "markdown",
      "source": [
        "# コレクション演算\n",
        "リスト、タプル、つまり順番がある集合のことをシーケンスという。\n",
        "順番がない集合を集合型（セット）という。\n",
        "上記２種類をまとめてコレクションという。\n",
        "コレクションは共通の演算が使える。\n",
        "len(長さ、量を取得)、max(最大値を取得)、min(最小値を取得)など"
      ],
      "metadata": {
        "id": "wtWpPGYyW5wu"
      }
    },
    {
      "cell_type": "code",
      "source": [
        "list = [1, 1, 2, 3, 4, 5] #6つの要素\n",
        "tuple = ( 10, 9, 7, 7, 8, 8, 9 ) #7つの要素\n",
        "set = { 1, -2, 3, -4, 5, -6, 7, -8} #8つの要素\n",
        "#リストの長さ、最大値、最小値\n",
        "print( len(list), max(list), min(list) )\n",
        "#タプルの長さ、最大値、最小値\n",
        "print( len(tuple), max(tuple), min(tuple) )\n",
        "#setの長さ(量)、最大値、最小値\n",
        "print( len(set), max(set), min(set) )"
      ],
      "metadata": {
        "id": "Ptdm4hSz70DK",
        "colab": {
          "base_uri": "https://localhost:8080/"
        },
        "outputId": "6c67a1c6-d21f-4db0-f4c5-cba03c3b097b"
      },
      "execution_count": 3,
      "outputs": [
        {
          "output_type": "stream",
          "name": "stdout",
          "text": [
            "6 5 1\n",
            "7 10 7\n",
            "8 7 -8\n"
          ]
        }
      ]
    },
    {
      "cell_type": "code",
      "source": [],
      "metadata": {
        "id": "Bcr_yKWBZGcB"
      },
      "execution_count": null,
      "outputs": []
    }
  ]
}