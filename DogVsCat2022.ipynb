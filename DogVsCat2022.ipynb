{
  "nbformat": 4,
  "nbformat_minor": 0,
  "metadata": {
    "colab": {
      "provenance": [],
      "collapsed_sections": [],
      "authorship_tag": "ABX9TyM8wEOzIPHL8ENciWLZAqdk",
      "include_colab_link": true
    },
    "kernelspec": {
      "name": "python3",
      "display_name": "Python 3"
    },
    "language_info": {
      "name": "python"
    }
  },
  "cells": [
    {
      "cell_type": "markdown",
      "metadata": {
        "id": "view-in-github",
        "colab_type": "text"
      },
      "source": [
        "<a href=\"https://colab.research.google.com/github/daiju0722/Deeplearning2022Late/blob/main/DogVsCat2022.ipynb\" target=\"_parent\"><img src=\"https://colab.research.google.com/assets/colab-badge.svg\" alt=\"Open In Colab\"/></a>"
      ]
    },
    {
      "cell_type": "markdown",
      "source": [
        "# Kerasを使用したディープラーニングをやってみる\n",
        "画像認識を行う"
      ],
      "metadata": {
        "id": "tEt-0TtW3q_L"
      }
    },
    {
      "cell_type": "markdown",
      "source": [
        "## ライブラリの読み込み"
      ],
      "metadata": {
        "id": "CAevgCWs5pm1"
      }
    },
    {
      "cell_type": "code",
      "execution_count": 1,
      "metadata": {
        "id": "qP9Vqh_h3NiW"
      },
      "outputs": [],
      "source": [
        "%matplotlib inline\n",
        "from keras.applications.vgg16 import VGG16,preprocess_input, decode_predictions\n",
        "from keras.preprocessing import image\n",
        "from PIL import Image \n",
        "import matplotlib.pyplot as plt\n",
        "import numpy as np\n",
        "import sys"
      ]
    },
    {
      "cell_type": "markdown",
      "source": [
        "## 学習済みモデルの読み込み"
      ],
      "metadata": {
        "id": "cpFsyMir7-yS"
      }
    },
    {
      "cell_type": "code",
      "source": [
        "model = VGG16(weights='imagenet')"
      ],
      "metadata": {
        "id": "Uq67I2_g6w9o",
        "colab": {
          "base_uri": "https://localhost:8080/"
        },
        "outputId": "b0585aa1-05d9-445a-8d8a-590dd6ec3973"
      },
      "execution_count": 2,
      "outputs": [
        {
          "output_type": "stream",
          "name": "stdout",
          "text": [
            "Downloading data from https://storage.googleapis.com/tensorflow/keras-applications/vgg16/vgg16_weights_tf_dim_ordering_tf_kernels.h5\n",
            "553467904/553467096 [==============================] - 6s 0us/step\n",
            "553476096/553467096 [==============================] - 6s 0us/step\n"
          ]
        }
      ]
    },
    {
      "cell_type": "markdown",
      "source": [
        "### 画像判定のための関数"
      ],
      "metadata": {
        "id": "GIxlWIuO8m1B"
      }
    },
    {
      "cell_type": "code",
      "source": [
        "def predict(filename, featuresize):\n",
        "  img = image.load_img(filename, target_size=(224, 224))\n",
        "  x = image.image_to_array(img)\n",
        "  x = np.expend_dims(x, axis=0)\n",
        "  # 学習モデルで判定を実行\n",
        "  preds = model.predict(preprocess_input(x))\n",
        "  results = decode_predictions(preds, top=featuresize)[0]\n",
        "  return results\n",
        "  # 関数終わり\n"
      ],
      "metadata": {
        "id": "IiGf3-d88eQk"
      },
      "execution_count": 3,
      "outputs": []
    },
    {
      "cell_type": "markdown",
      "source": [
        "### 画像表示のための関数"
      ],
      "metadata": {
        "id": "jVFE-KFr_ifU"
      }
    },
    {
      "cell_type": "code",
      "source": [
        "def showimg(filename, title, i):\n",
        "  im = Image.open(filename) # 画像ファイルを開く\n",
        "  im_list = np.array(im) # 画像ビットデータをndarrayにする\n",
        "  plt.subplot(2, 5, i)\n",
        "  plt.title(title)\n",
        "  plt.axis(\"off\")\n",
        "  plt.imshow(im_list)\n",
        "  #関数終わり"
      ],
      "metadata": {
        "id": "G31iRHG9_UWu"
      },
      "execution_count": 4,
      "outputs": []
    },
    {
      "cell_type": "markdown",
      "source": [
        "### Kaggeにある画像データを利用する\n",
        "https://www.kaggle.com  \n",
        "犬猫判定用の画像データ  \n",
        "https://wwwkaggel.com/c/dogs-vs-cats/data  "
      ],
      "metadata": {
        "id": "S965IybJBdi7"
      }
    },
    {
      "cell_type": "markdown",
      "source": [
        "## 指定されたURLからファイルをダウンロードする"
      ],
      "metadata": {
        "id": "vBpwj_FVuc2g"
      }
    },
    {
      "cell_type": "code",
      "source": [
        "# wgetでwebからファイルをダウンロードする\n",
        "#GoogleColabでコマンドを実行するときは、先頭に！マークを必ずつけること\n",
        "!wget --load-cookies /tmp/cookies.txt \"https://drive.google.com/uc?export=download&confirm=$(wget --quiet --save-cookies /tmp/cookies.txt --keep-session-cookies --no-check-certificate 'https://drive.google.com/uc?export=download&id=1WQ9KZ-St4BqUWkqYJZYBIXQ8tT92DW_2' -O- | sed -rn 's/.*confirm=([0-9A-Za-z_]+).*/\\1\\n/p')&id=1WQ9KZ-St4BqUWkqYJZYBIXQ8tT92DW_2\" -O train.zip && rm -rf /tmp/cookies.txt\n",
        "!wget --load-cookies /tmp/cookies.txt \"https://drive.google.com/uc?export=download&confirm=$(wget --quiet --save-cookies /tmp/cookies.txt --keep-session-cookies --no-check-certificate 'https://drive.google.com/uc?export=download&id=1WQ9KZ-St4BqUWkqYJZYBIXQ8tT92DW_2' -O- | sed -rn 's/.*confirm=([0-9A-Za-z_]+).*/\\1\\n/p')&id=1WQ9KZ-St4BqUWkqYJZYBIXQ8tT92DW_2\" -O test.zip && rm -rf /tmp/cookies.txt\n"
      ],
      "metadata": {
        "id": "GHSI0a4wBdLM",
        "colab": {
          "base_uri": "https://localhost:8080/"
        },
        "outputId": "a74b05fa-90d6-4f8d-fd91-6be25056fd01"
      },
      "execution_count": 5,
      "outputs": [
        {
          "output_type": "stream",
          "name": "stdout",
          "text": [
            "--2022-10-04 00:34:28--  https://drive.google.com/uc?export=download&confirm=t&id=1WQ9KZ-St4BqUWkqYJZYBIXQ8tT92DW_2\n",
            "Resolving drive.google.com (drive.google.com)... 108.177.127.102, 108.177.127.138, 108.177.127.113, ...\n",
            "Connecting to drive.google.com (drive.google.com)|108.177.127.102|:443... connected.\n",
            "HTTP request sent, awaiting response... 303 See Other\n",
            "Location: https://doc-0k-1s-docs.googleusercontent.com/docs/securesc/ha0ro937gcuc7l7deffksulhg5h7mbp1/ehb1rss699h79sl6o8q8cs96bh31k9r1/1664843625000/14334177730080324288/*/1WQ9KZ-St4BqUWkqYJZYBIXQ8tT92DW_2?e=download&uuid=9f4bf460-3785-4e4e-8140-d69bb2ba9c07 [following]\n",
            "Warning: wildcards not supported in HTTP.\n",
            "--2022-10-04 00:34:28--  https://doc-0k-1s-docs.googleusercontent.com/docs/securesc/ha0ro937gcuc7l7deffksulhg5h7mbp1/ehb1rss699h79sl6o8q8cs96bh31k9r1/1664843625000/14334177730080324288/*/1WQ9KZ-St4BqUWkqYJZYBIXQ8tT92DW_2?e=download&uuid=9f4bf460-3785-4e4e-8140-d69bb2ba9c07\n",
            "Resolving doc-0k-1s-docs.googleusercontent.com (doc-0k-1s-docs.googleusercontent.com)... 142.251.31.132, 2a00:1450:4013:c1a::84\n",
            "Connecting to doc-0k-1s-docs.googleusercontent.com (doc-0k-1s-docs.googleusercontent.com)|142.251.31.132|:443... connected.\n",
            "HTTP request sent, awaiting response... 200 OK\n",
            "Length: 569872234 (543M) [application/x-zip-compressed]\n",
            "Saving to: ‘train.zip’\n",
            "\n",
            "train.zip           100%[===================>] 543.47M   107MB/s    in 4.9s    \n",
            "\n",
            "2022-10-04 00:34:34 (111 MB/s) - ‘train.zip’ saved [569872234/569872234]\n",
            "\n",
            "--2022-10-04 00:34:35--  https://drive.google.com/uc?export=download&confirm=t&id=1WQ9KZ-St4BqUWkqYJZYBIXQ8tT92DW_2\n",
            "Resolving drive.google.com (drive.google.com)... 108.177.127.102, 108.177.127.138, 108.177.127.113, ...\n",
            "Connecting to drive.google.com (drive.google.com)|108.177.127.102|:443... connected.\n",
            "HTTP request sent, awaiting response... 303 See Other\n",
            "Location: https://doc-0k-1s-docs.googleusercontent.com/docs/securesc/ha0ro937gcuc7l7deffksulhg5h7mbp1/ehb1rss699h79sl6o8q8cs96bh31k9r1/1664843625000/14334177730080324288/*/1WQ9KZ-St4BqUWkqYJZYBIXQ8tT92DW_2?e=download&uuid=67ae32e8-7f2f-4290-bab8-07c0bd8252cc [following]\n",
            "Warning: wildcards not supported in HTTP.\n",
            "--2022-10-04 00:34:35--  https://doc-0k-1s-docs.googleusercontent.com/docs/securesc/ha0ro937gcuc7l7deffksulhg5h7mbp1/ehb1rss699h79sl6o8q8cs96bh31k9r1/1664843625000/14334177730080324288/*/1WQ9KZ-St4BqUWkqYJZYBIXQ8tT92DW_2?e=download&uuid=67ae32e8-7f2f-4290-bab8-07c0bd8252cc\n",
            "Resolving doc-0k-1s-docs.googleusercontent.com (doc-0k-1s-docs.googleusercontent.com)... 142.251.31.132, 2a00:1450:4013:c1a::84\n",
            "Connecting to doc-0k-1s-docs.googleusercontent.com (doc-0k-1s-docs.googleusercontent.com)|142.251.31.132|:443... connected.\n",
            "HTTP request sent, awaiting response... 200 OK\n",
            "Length: 569872234 (543M) [application/x-zip-compressed]\n",
            "Saving to: ‘test.zip’\n",
            "\n",
            "test.zip            100%[===================>] 543.47M   110MB/s    in 5.0s    \n",
            "\n",
            "2022-10-04 00:34:41 (109 MB/s) - ‘test.zip’ saved [569872234/569872234]\n",
            "\n"
          ]
        }
      ]
    },
    {
      "cell_type": "markdown",
      "source": [
        "## Colbに自分のGoogleアカウントのドライブをマウントする"
      ],
      "metadata": {
        "id": "o8NdSMcVyusH"
      }
    },
    {
      "cell_type": "code",
      "source": [
        "# googledpライブを操作するモジュールをimport\n",
        "from google.colab import drive\n",
        "# googleドライブをマウント\n",
        "drive.mount('/content/drive')"
      ],
      "metadata": {
        "colab": {
          "base_uri": "https://localhost:8080/"
        },
        "id": "mhm9sP9bvRrT",
        "outputId": "95f4ca1d-eb18-43fe-d271-6e718b022d58"
      },
      "execution_count": 6,
      "outputs": [
        {
          "output_type": "stream",
          "name": "stdout",
          "text": [
            "Mounted at /content/drive\n"
          ]
        }
      ]
    },
    {
      "cell_type": "markdown",
      "source": [
        "## DLしてきたファイルをマウントしたディレクトリにコピーする"
      ],
      "metadata": {
        "id": "QxQ1gjWa1Kxt"
      }
    },
    {
      "cell_type": "code",
      "source": [
        "# コピーファイルを置くディレクトリを作る\n",
        "import os\n",
        "dir_path = \"/content/drive/My Drive/2002LATE\"\n",
        "# すでにディレクトリがあってもエラーにしない\n",
        "os.makedirs(dir_path, exist_ok=True)\n",
        "!pwd #今いるディレクトリを表示\n",
        "# ファイルをコピー\n",
        "!cp train.zip \"/content/drive/My Drive/2002LATE\"\n",
        "# test.zipはいったん使わないのでコピーしない"
      ],
      "metadata": {
        "colab": {
          "base_uri": "https://localhost:8080/"
        },
        "id": "NqdcKmgYzrAN",
        "outputId": "0db887ac-82e2-425e-cd94-a32d2f0f3110"
      },
      "execution_count": 7,
      "outputs": [
        {
          "output_type": "stream",
          "name": "stdout",
          "text": [
            "/content\n"
          ]
        }
      ]
    },
    {
      "cell_type": "markdown",
      "source": [
        "## GoogleドライブからColabへファイルをコピー"
      ],
      "metadata": {
        "id": "jkgf5MuN4EbN"
      }
    },
    {
      "cell_type": "code",
      "source": [
        "!cp \"/content/drive/My Drive/2002LATE/train.zip\""
      ],
      "metadata": {
        "colab": {
          "base_uri": "https://localhost:8080/"
        },
        "id": "INAKETVC2is1",
        "outputId": "b2a0301c-ceb0-4e36-fa3a-8d523b93f1c4"
      },
      "execution_count": 8,
      "outputs": [
        {
          "output_type": "stream",
          "name": "stdout",
          "text": [
            "cp: missing destination file operand after '/content/drive/My Drive/2002LATE/train.zip'\n",
            "Try 'cp --help' for more information.\n"
          ]
        }
      ]
    },
    {
      "cell_type": "markdown",
      "source": [
        "## zipファイルを解凍する"
      ],
      "metadata": {
        "id": "_5jw04OL4jHo"
      }
    },
    {
      "cell_type": "code",
      "source": [
        "# unzipコマンドで解凍\n",
        "!unzip -o -q \"train.zip\"\n",
        "print(\"zip解凍完了\")"
      ],
      "metadata": {
        "colab": {
          "base_uri": "https://localhost:8080/"
        },
        "id": "ol34-Ar94O3X",
        "outputId": "efb40102-1741-4bb2-f44b-5139735c64e1"
      },
      "execution_count": 9,
      "outputs": [
        {
          "output_type": "stream",
          "name": "stdout",
          "text": [
            "zip解凍完了\n"
          ]
        }
      ]
    },
    {
      "cell_type": "markdown",
      "source": [
        "## 解凍した画像を使って画像判定させる"
      ],
      "metadata": {
        "id": "oScCtHu-56SP"
      }
    },
    {
      "cell_type": "code",
      "source": [
        "# 画像を指定する変数\n",
        "filename = \"train/cat.101.jpg\"\n",
        "plt.figure(figsize=(20, 10))\n",
        "for i in range(1):\n",
        "  showimg(filename, \"What's this??\", i+1)\n",
        "# ループ終わり\n",
        "plt.show()\n",
        "\n",
        "# 表示した画像を判定\n",
        "results = predict( filename, 10 )\n",
        "for result in results:\n",
        "  print(result)"
      ],
      "metadata": {
        "colab": {
          "base_uri": "https://localhost:8080/",
          "height": 521
        },
        "id": "X-g8RZ2-5E5z",
        "outputId": "774d340a-337e-4f76-db07-241db79ee096"
      },
      "execution_count": 13,
      "outputs": [
        {
          "output_type": "display_data",
          "data": {
            "text/plain": [
              "<Figure size 1440x720 with 1 Axes>"
            ],
            "image/png": "[encoded data removed]"
          },
          "metadata": {
            "needs_background": "light"
          }
        },
        {
          "output_type": "error",
          "ename": "AttributeError",
          "evalue": "ignored",
          "traceback": [
            "\u001b[0;31m---------------------------------------------------------------------------\u001b[0m",
            "\u001b[0;31mAttributeError\u001b[0m                            Traceback (most recent call last)",
            "\u001b[0;32m<ipython-input-13-f6c3e967cced>\u001b[0m in \u001b[0;36m<module>\u001b[0;34m\u001b[0m\n\u001b[1;32m      8\u001b[0m \u001b[0;34m\u001b[0m\u001b[0m\n\u001b[1;32m      9\u001b[0m \u001b[0;31m# 表示した画像を判定\u001b[0m\u001b[0;34m\u001b[0m\u001b[0;34m\u001b[0m\u001b[0;34m\u001b[0m\u001b[0m\n\u001b[0;32m---> 10\u001b[0;31m \u001b[0mresults\u001b[0m \u001b[0;34m=\u001b[0m \u001b[0mpredict\u001b[0m\u001b[0;34m(\u001b[0m \u001b[0mfilename\u001b[0m\u001b[0;34m,\u001b[0m \u001b[0;36m10\u001b[0m \u001b[0;34m)\u001b[0m\u001b[0;34m\u001b[0m\u001b[0;34m\u001b[0m\u001b[0m\n\u001b[0m\u001b[1;32m     11\u001b[0m \u001b[0;32mfor\u001b[0m \u001b[0mresult\u001b[0m \u001b[0;32min\u001b[0m \u001b[0mresults\u001b[0m\u001b[0;34m:\u001b[0m\u001b[0;34m\u001b[0m\u001b[0;34m\u001b[0m\u001b[0m\n\u001b[1;32m     12\u001b[0m   \u001b[0mprint\u001b[0m\u001b[0;34m(\u001b[0m\u001b[0mresult\u001b[0m\u001b[0;34m)\u001b[0m\u001b[0;34m\u001b[0m\u001b[0;34m\u001b[0m\u001b[0m\n",
            "\u001b[0;32m<ipython-input-3-3c41c6d5537c>\u001b[0m in \u001b[0;36mpredict\u001b[0;34m(filename, featuresize)\u001b[0m\n\u001b[1;32m      1\u001b[0m \u001b[0;32mdef\u001b[0m \u001b[0mpredict\u001b[0m\u001b[0;34m(\u001b[0m\u001b[0mfilename\u001b[0m\u001b[0;34m,\u001b[0m \u001b[0mfeaturesize\u001b[0m\u001b[0;34m)\u001b[0m\u001b[0;34m:\u001b[0m\u001b[0;34m\u001b[0m\u001b[0;34m\u001b[0m\u001b[0m\n\u001b[1;32m      2\u001b[0m   \u001b[0mimg\u001b[0m \u001b[0;34m=\u001b[0m \u001b[0mimage\u001b[0m\u001b[0;34m.\u001b[0m\u001b[0mload_img\u001b[0m\u001b[0;34m(\u001b[0m\u001b[0mfilename\u001b[0m\u001b[0;34m,\u001b[0m \u001b[0mtarget_size\u001b[0m\u001b[0;34m=\u001b[0m\u001b[0;34m(\u001b[0m\u001b[0;36m224\u001b[0m\u001b[0;34m,\u001b[0m \u001b[0;36m224\u001b[0m\u001b[0;34m)\u001b[0m\u001b[0;34m)\u001b[0m\u001b[0;34m\u001b[0m\u001b[0;34m\u001b[0m\u001b[0m\n\u001b[0;32m----> 3\u001b[0;31m   \u001b[0mx\u001b[0m \u001b[0;34m=\u001b[0m \u001b[0mimage\u001b[0m\u001b[0;34m.\u001b[0m\u001b[0mimage_to_array\u001b[0m\u001b[0;34m(\u001b[0m\u001b[0mimg\u001b[0m\u001b[0;34m)\u001b[0m\u001b[0;34m\u001b[0m\u001b[0;34m\u001b[0m\u001b[0m\n\u001b[0m\u001b[1;32m      4\u001b[0m   \u001b[0mx\u001b[0m \u001b[0;34m=\u001b[0m \u001b[0mnp\u001b[0m\u001b[0;34m.\u001b[0m\u001b[0mexpend_dims\u001b[0m\u001b[0;34m(\u001b[0m\u001b[0mx\u001b[0m\u001b[0;34m,\u001b[0m \u001b[0maxis\u001b[0m\u001b[0;34m=\u001b[0m\u001b[0;36m0\u001b[0m\u001b[0;34m)\u001b[0m\u001b[0;34m\u001b[0m\u001b[0;34m\u001b[0m\u001b[0m\n\u001b[1;32m      5\u001b[0m   \u001b[0;31m# 学習モデルで判定を実行\u001b[0m\u001b[0;34m\u001b[0m\u001b[0;34m\u001b[0m\u001b[0;34m\u001b[0m\u001b[0m\n",
            "\u001b[0;31mAttributeError\u001b[0m: module 'keras.preprocessing.image' has no attribute 'image_to_array'"
          ]
        }
      ]
    },
    {
      "cell_type": "code",
      "source": [],
      "metadata": {
        "id": "VMaJQZd67Ear"
      },
      "execution_count": 12,
      "outputs": []
    }
  ]
}