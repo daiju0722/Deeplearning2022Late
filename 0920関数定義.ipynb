{
  "nbformat": 4,
  "nbformat_minor": 0,
  "metadata": {
    "colab": {
      "provenance": [],
      "authorship_tag": "ABX9TyMlvesE5XU5FkdenvIIjWdT",
      "include_colab_link": true
    },
    "kernelspec": {
      "name": "python3",
      "display_name": "Python 3"
    },
    "language_info": {
      "name": "python"
    }
  },
  "cells": [
    {
      "cell_type": "markdown",
      "metadata": {
        "id": "view-in-github",
        "colab_type": "text"
      },
      "source": [
        "<a href=\"https://colab.research.google.com/github/daiju0722/Deeplearning2022Late/blob/main/0920%E9%96%A2%E6%95%B0%E5%AE%9A%E7%BE%A9.ipynb\" target=\"_parent\"><img src=\"https://colab.research.google.com/assets/colab-badge.svg\" alt=\"Open In Colab\"/></a>"
      ]
    },
    {
      "cell_type": "markdown",
      "source": [
        "# python3で関数を定義する\n",
        "関数定義"
      ],
      "metadata": {
        "id": "3gNNszVhbSl_"
      }
    },
    {
      "cell_type": "code",
      "execution_count": 1,
      "metadata": {
        "colab": {
          "base_uri": "https://localhost:8080/"
        },
        "id": "rQCyqIkRbEVr",
        "outputId": "d699f304-44c3-4300-80b2-fdb84defee3b"
      },
      "outputs": [
        {
          "output_type": "stream",
          "name": "stdout",
          "text": [
            "hello, kansuu!\n"
          ]
        }
      ],
      "source": [
        "# helloという関数を定義する\n",
        "# \"hello, kansuu!\"と画面表示する関数\n",
        "def hello():\n",
        "  print('hello, kansuu!') # インデントされている\n",
        "  # インデントされている命令文などは関数の範囲の中\n",
        "print('hello, kansuu!') # インデントされていない\n",
        "# インデントされていない命令文などは関数の範囲の外"
      ]
    },
    {
      "cell_type": "markdown",
      "source": [
        "## 関数を実行する"
      ],
      "metadata": {
        "id": "a20jOscSeGu9"
      }
    },
    {
      "cell_type": "code",
      "source": [
        "# 作成した関数hello()をコールする\n",
        "hello()\n",
        "hello()"
      ],
      "metadata": {
        "colab": {
          "base_uri": "https://localhost:8080/"
        },
        "id": "mZErH4jLeEie",
        "outputId": "24c2a0d0-11f6-4e21-a6a5-d8ae88452de3"
      },
      "execution_count": 2,
      "outputs": [
        {
          "output_type": "stream",
          "name": "stdout",
          "text": [
            "hello, kansuu!\n",
            "hello, kansuu!\n"
          ]
        }
      ]
    },
    {
      "cell_type": "code",
      "source": [
        "###引数付きの関数 hello() を定義する\n",
        "def hello(who):\n",
        "  print( 'hello,' + who + '!' )\n",
        "#ここが変数の終わり\n",
        "\n",
        "hello( 'python!' )"
      ],
      "metadata": {
        "colab": {
          "base_uri": "https://localhost:8080/"
        },
        "id": "jLTRJU3HeUNJ",
        "outputId": "54bb89ef-e1c2-4f95-cd6e-fa1839395c0e"
      },
      "execution_count": 4,
      "outputs": [
        {
          "output_type": "stream",
          "name": "stdout",
          "text": [
            "hello,python!!\n"
          ]
        }
      ]
    },
    {
      "cell_type": "markdown",
      "source": [
        "## 複数の引数付きの関数を定義"
      ],
      "metadata": {
        "id": "SRDWMbuPgN3a"
      }
    },
    {
      "cell_type": "code",
      "source": [
        "def hello( who, aisatsu ):\n",
        "  print('hello,' + who + 'さん' + aisatsu)\n",
        "#関数終わり\n",
        "\n",
        "hello('田中', 'おはよう')\n",
        "hello('鈴木', 'おはよう')"
      ],
      "metadata": {
        "colab": {
          "base_uri": "https://localhost:8080/"
        },
        "id": "D5jFy78jfu_G",
        "outputId": "0ad576e8-b0f3-43db-af39-3af92422ebdd"
      },
      "execution_count": 7,
      "outputs": [
        {
          "output_type": "stream",
          "name": "stdout",
          "text": [
            "hello,田中さんおはよう\n",
            "hello,鈴木さんおはよう\n"
          ]
        }
      ]
    },
    {
      "cell_type": "markdown",
      "source": [
        "## 関数の戻り値を定義する\n",
        "戻り値１つの関数を定義"
      ],
      "metadata": {
        "id": "ZSwruDjjh_n9"
      }
    },
    {
      "cell_type": "code",
      "source": [
        "def helloBack(who, aisatsu):\n",
        "  return who + 'さん、' + aisatsu\n",
        "# 関数終わり\n",
        "\n",
        "  #戻り値を変数xに代入して表示\n",
        "x = helloBack('佐藤','こんばんは')\n",
        "print(x)\n"
      ],
      "metadata": {
        "colab": {
          "base_uri": "https://localhost:8080/"
        },
        "id": "mNw7iwPUhK8a",
        "outputId": "e241c73b-cf5a-4368-bf81-f9f1a62a8471"
      },
      "execution_count": 8,
      "outputs": [
        {
          "output_type": "stream",
          "name": "stdout",
          "text": [
            "佐藤さん、こんばんは\n"
          ]
        }
      ]
    },
    {
      "cell_type": "markdown",
      "source": [
        "## 複数の戻り値を返す関数を定義"
      ],
      "metadata": {
        "id": "CkkWrv6BjVED"
      }
    },
    {
      "cell_type": "code",
      "source": [
        "def keisan(x, y):\n",
        "  # x, y, x + y この３つを返す\n",
        "  return x, y, x + y\n",
        "# 関数終わり\n",
        "\n",
        "# 関数 keisan を実行して戻り値を受け取る\n",
        "e, f, g = keisan(3, 6) # 戻り値が 3, 6, 9 になる\n",
        "print(e, f, g)"
      ],
      "metadata": {
        "colab": {
          "base_uri": "https://localhost:8080/"
        },
        "id": "bNlT4vaRjAk8",
        "outputId": "7c99be7f-7218-41ad-9c35-e372a0e9118b"
      },
      "execution_count": 9,
      "outputs": [
        {
          "output_type": "stream",
          "name": "stdout",
          "text": [
            "3 6 9\n"
          ]
        }
      ]
    },
    {
      "cell_type": "markdown",
      "source": [
        "## その他の文法\n",
        "分岐(if文)"
      ],
      "metadata": {
        "id": "JxmQdQiHlnIF"
      }
    },
    {
      "cell_type": "code",
      "source": [
        "# if文の範囲もインデントで表す\n",
        "def over( num, thres ):\n",
        "  if num > thres: # numがしきい値(閾値)より大きいとき\n",
        "    print(str(num) + 'は' + str(thres) + 'より大きい')\n",
        "  else:\n",
        "    print(str(num) + 'は' + str(thres) + '以下です')\n",
        "  # 分岐の終わり\n",
        "# 関数終わり\n",
        "\n",
        "over( 333, 100)\n",
        "over( -1, 10)\n"
      ],
      "metadata": {
        "colab": {
          "base_uri": "https://localhost:8080/"
        },
        "id": "Qz35QtbekmOS",
        "outputId": "08832334-f1e6-4fd9-f91e-c7922d68f2a6"
      },
      "execution_count": 10,
      "outputs": [
        {
          "output_type": "stream",
          "name": "stdout",
          "text": [
            "333は100より大きい\n",
            "-1は10以下です\n"
          ]
        }
      ]
    },
    {
      "cell_type": "code",
      "source": [
        "#リストに第２引数の値が含まれるか判定\n",
        "def include(list, keyword):\n",
        "  uniq = set(list) #リストを集合に変換  \n",
        "  if keyword in uniq:\n",
        "    print(keyword + 'が含まれる')\n",
        "  else:\n",
        "    print(keyword + 'が含まれない')\n",
        "  #分岐の終わり\n",
        "#関数終わり\n",
        "\n",
        "# リストを引き渡して作成した関数を実行する\n",
        "list_1 = ['アップル', 'ペン', 'ペン', 'パイナップル'] # 第１引数に使うリスト\n",
        "include(list_1, 'パイナップル')\n",
        "include(list_1, 'バナナ')"
      ],
      "metadata": {
        "colab": {
          "base_uri": "https://localhost:8080/"
        },
        "id": "NfGOidGQn2R0",
        "outputId": "0f3263b7-50c1-42cd-f1a9-d0a9e0096c6b"
      },
      "execution_count": 12,
      "outputs": [
        {
          "output_type": "stream",
          "name": "stdout",
          "text": [
            "パイナップルが含まれる\n"
          ]
        }
      ]
    },
    {
      "cell_type": "markdown",
      "source": [
        "## 繰り返し文(while文)"
      ],
      "metadata": {
        "id": "ZKvA-cL7w8UO"
      }
    },
    {
      "cell_type": "code",
      "source": [
        "# while文は条件がtrueの間繰り返す\n",
        "def count(max):\n",
        "  num = 0\n",
        "  while num < max: # numがmax未満の間、繰り返す\n",
        "    print(num)\n",
        "    num += 1\n",
        "  #while文繰り返し終わり\n",
        "#関数終わり\n",
        "\n",
        "count(5) #作成した関数に引数を引き渡して実行\n"
      ],
      "metadata": {
        "colab": {
          "base_uri": "https://localhost:8080/"
        },
        "id": "LilbsJVbutPj",
        "outputId": "cde5619d-3d5b-4bb6-89a7-3bbde604b76a"
      },
      "execution_count": 13,
      "outputs": [
        {
          "output_type": "stream",
          "name": "stdout",
          "text": [
            "0\n",
            "1\n",
            "2\n",
            "3\n",
            "4\n"
          ]
        }
      ]
    },
    {
      "cell_type": "markdown",
      "source": [
        "## 繰り返し文(for文)\n",
        "### 変数βの集合から１つずつ取り出して変数αとして使う\n",
        "for 変数α in range(変数β):"
      ],
      "metadata": {
        "id": "AqataJGtyv9o"
      }
    },
    {
      "cell_type": "code",
      "source": [
        "# 集合（コレクション）の中から取り出して繰り返し\n",
        "def every(array):\n",
        "  for x in array: # arrayの中から１つずつデータを取り出しxに代入\n",
        "    print(x)\n",
        "  # for文終わり\n",
        "#　関数終わり\n",
        "\n",
        "list = [1, 2, 3]\n",
        "every(list)\n",
        "tuple=(4, 5, 6)\n",
        "every(tuple)\n",
        "# 辞書型もコレクション\n",
        "dict = {'a' :7, 'b':8, 'c':9}\n",
        "every(dict) # キーワードの一覧表示\n",
        "value = dict.values() # 値のリストを取得\n",
        "every(value) # 値の一覧を表示\n",
        "# 文字列も文字配列としてコレクション扱いができる\n",
        "every('dog')"
      ],
      "metadata": {
        "colab": {
          "base_uri": "https://localhost:8080/"
        },
        "id": "OTkUyFqtx4Nb",
        "outputId": "af650766-1529-4b54-a616-84a3bc721cd2"
      },
      "execution_count": 18,
      "outputs": [
        {
          "output_type": "stream",
          "name": "stdout",
          "text": [
            "1\n",
            "2\n",
            "3\n",
            "4\n",
            "5\n",
            "6\n",
            "a\n",
            "b\n",
            "c\n",
            "7\n",
            "8\n",
            "9\n",
            "d\n",
            "o\n",
            "g\n"
          ]
        }
      ]
    },
    {
      "cell_type": "code",
      "source": [
        "# カウンター変数\n",
        "# for num in range(数値) ０～数値未満繰り返す\n",
        "\n",
        "def count(num):\n",
        "  for i in range(num):\n",
        "    print(i)\n",
        "  # 繰り返しの終わり\n",
        "# 関数の終わり\n",
        "\n",
        "count(3)"
      ],
      "metadata": {
        "colab": {
          "base_uri": "https://localhost:8080/"
        },
        "id": "Xf52Gy_D0cYK",
        "outputId": "c4c57d7c-24fc-4f44-9a89-da58b3c8e2ef"
      },
      "execution_count": 19,
      "outputs": [
        {
          "output_type": "stream",
          "name": "stdout",
          "text": [
            "0\n",
            "1\n",
            "2\n"
          ]
        }
      ]
    },
    {
      "cell_type": "markdown",
      "source": [
        "## 繰り返しを中断したいときは、break命令"
      ],
      "metadata": {
        "id": "oh9Md37u4ppg"
      }
    },
    {
      "cell_type": "code",
      "source": [
        "def stop (array):\n",
        "  for i in array:\n",
        "    if i >= 4:\n",
        "      break # ループを中断して抜ける\n",
        "    print(i)\n",
        "    # 分岐終わり\n",
        "  # ループ終わり\n",
        "# 関数終わり\n",
        "\n",
        "list = [1, 2, 3, 4, 5, 1, 2, 3, 4, 5]\n",
        "stop(list)"
      ],
      "metadata": {
        "colab": {
          "base_uri": "https://localhost:8080/"
        },
        "id": "shWirf0u3_es",
        "outputId": "f2336cab-dc0c-4123-d356-9f7d5edc9d8e"
      },
      "execution_count": 20,
      "outputs": [
        {
          "output_type": "stream",
          "name": "stdout",
          "text": [
            "1\n",
            "2\n",
            "3\n"
          ]
        }
      ]
    },
    {
      "cell_type": "markdown",
      "source": [
        "## 繰り返しをスキップしたいときは、continue命令"
      ],
      "metadata": {
        "id": "HAPV44F26Y8Z"
      }
    },
    {
      "cell_type": "code",
      "source": [
        "def skip(array):\n",
        "  for i in array:\n",
        "    if i >= 4:\n",
        "      continue # 以降のループ内処理をスキップする\n",
        "    # 分岐終わり\n",
        "    print(i)\n",
        "  # 繰り返し終わり\n",
        "# 関数終わり\n",
        "\n",
        "list = [1, 2, 3, 4, 5, 1, 2, 3, 4, 5]\n",
        "skip(list)"
      ],
      "metadata": {
        "colab": {
          "base_uri": "https://localhost:8080/"
        },
        "id": "BYSS2H7c6isS",
        "outputId": "bc6eae49-de7b-4b5f-8bcc-d8b53fe8e861"
      },
      "execution_count": 21,
      "outputs": [
        {
          "output_type": "stream",
          "name": "stdout",
          "text": [
            "1\n",
            "2\n",
            "3\n",
            "1\n",
            "2\n",
            "3\n"
          ]
        }
      ]
    },
    {
      "cell_type": "code",
      "source": [],
      "metadata": {
        "id": "GGPzvQNz8DQK"
      },
      "execution_count": null,
      "outputs": []
    }
  ]
}